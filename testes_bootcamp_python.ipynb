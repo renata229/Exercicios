{
  "nbformat": 4,
  "nbformat_minor": 0,
  "metadata": {
    "colab": {
      "provenance": [],
      "authorship_tag": "ABX9TyOsWKraU7yMgjAWzecVxINo",
      "include_colab_link": true
    },
    "kernelspec": {
      "name": "python3",
      "display_name": "Python 3"
    },
    "language_info": {
      "name": "python"
    }
  },
  "cells": [
    {
      "cell_type": "markdown",
      "metadata": {
        "id": "view-in-github",
        "colab_type": "text"
      },
      "source": [
        "<a href=\"https://colab.research.google.com/github/renata229/Exercicios/blob/main/testes_bootcamp_python.ipynb\" target=\"_parent\"><img src=\"https://colab.research.google.com/assets/colab-badge.svg\" alt=\"Open In Colab\"/></a>"
      ]
    },
    {
      "cell_type": "code",
      "execution_count": null,
      "metadata": {
        "id": "WUUROg-GMDKu"
      },
      "outputs": [],
      "source": [
        "num_1 = 50\n",
        "num_2 = 92\n"
      ]
    },
    {
      "cell_type": "code",
      "source": [
        "print(num_1)\n"
      ],
      "metadata": {
        "colab": {
          "base_uri": "https://localhost:8080/"
        },
        "id": "hD8t4OmSNS0O",
        "outputId": "5e621c7b-f893-4e56-e404-8d9c3ac3845e"
      },
      "execution_count": null,
      "outputs": [
        {
          "output_type": "stream",
          "name": "stdout",
          "text": [
            "50\n"
          ]
        }
      ]
    },
    {
      "cell_type": "code",
      "source": [
        "print(50/92)"
      ],
      "metadata": {
        "colab": {
          "base_uri": "https://localhost:8080/"
        },
        "id": "txeK4BbIN0Z6",
        "outputId": "a0b8eb43-b702-4db6-e158-c167c89b74aa"
      },
      "execution_count": null,
      "outputs": [
        {
          "output_type": "stream",
          "name": "stdout",
          "text": [
            "0.5434782608695652\n"
          ]
        }
      ]
    },
    {
      "cell_type": "code",
      "source": [
        "print(int(50/92))"
      ],
      "metadata": {
        "colab": {
          "base_uri": "https://localhost:8080/"
        },
        "id": "w_xbUDkoOES1",
        "outputId": "2c347d1a-6f07-4b09-b85f-9a7fcb243e22"
      },
      "execution_count": null,
      "outputs": [
        {
          "output_type": "stream",
          "name": "stdout",
          "text": [
            "0\n"
          ]
        }
      ]
    },
    {
      "cell_type": "code",
      "source": [
        "numero_1 = (input(\"data de nascimento\"))"
      ],
      "metadata": {
        "colab": {
          "base_uri": "https://localhost:8080/"
        },
        "id": "BGO5KMMPOlK1",
        "outputId": "74f6f203-5070-4f12-ea9d-7588729563e2"
      },
      "execution_count": null,
      "outputs": [
        {
          "name": "stdout",
          "output_type": "stream",
          "text": [
            "data de nascimento12/02/1981\n"
          ]
        }
      ]
    },
    {
      "cell_type": "code",
      "source": [
        "from typing_extensions import Concatenate\n",
        "nome_1 = \"Renata\"\n",
        "idade_1= \"41\"\n",
        "endereco_1 = \"Rua Deputado Andre de Almeida, 229/504\"\n",
        "dados_usuario_1 =(f\"o nome do usuario é {nome_1} , sua idade é: {idade_1} . E seu endereço é: {endereco_1}\")\n",
        "print(dados_usuario_1)"
      ],
      "metadata": {
        "colab": {
          "base_uri": "https://localhost:8080/"
        },
        "id": "L-imHssjOx0m",
        "outputId": "58ba7006-acca-4261-b96d-bf3a06e07ce6"
      },
      "execution_count": null,
      "outputs": [
        {
          "output_type": "stream",
          "name": "stdout",
          "text": [
            "o nome do usuario é Renata , sua idade é: 41 . E seu endereço é: Rua Deputado Andre de Almeida, 229/504\n"
          ]
        }
      ]
    },
    {
      "cell_type": "code",
      "source": [
        "#operadores_aritmétricos\n",
        "\n",
        "num_1 = 345\n",
        "num_2 = 456\n",
        "num_3 = 49580593\n",
        "num_4 = 208740284\n",
        "soma = num_1 + num_2 + num_3 + num_4\n",
        "\n",
        "print(f\"a soma dos números é:  {soma}\")"
      ],
      "metadata": {
        "colab": {
          "base_uri": "https://localhost:8080/"
        },
        "id": "RKx37ytVTyo8",
        "outputId": "f7e53d54-76c3-4982-b248-a0464ba066e8"
      },
      "execution_count": null,
      "outputs": [
        {
          "output_type": "stream",
          "name": "stdout",
          "text": [
            "a soma dos números é:  258321678\n"
          ]
        }
      ]
    },
    {
      "cell_type": "code",
      "source": [
        "numero_1 = int(input(\"digite um número\"))\n",
        "numero_2 = int(input(\"digite um número\"))\n",
        "operacao = input(\"deseja realizar uma soma ou subtração?\")\n",
        "soma = numero_1 + numero_2\n",
        "subtracao = numero_1 - numero_2\n",
        "\n",
        "print(soma) if operacao soma\n",
        "\n"
      ],
      "metadata": {
        "colab": {
          "base_uri": "https://localhost:8080/"
        },
        "id": "KPezzwzrWWDI",
        "outputId": "bdedeb33-0d5c-41f7-f02e-acff169dd23d"
      },
      "execution_count": null,
      "outputs": [
        {
          "output_type": "stream",
          "name": "stdout",
          "text": [
            "digite um número545\n",
            "digite um número545\n",
            "deseja realizar uma soma ou subtração?soma\n",
            "soma\n"
          ]
        }
      ]
    },
    {
      "cell_type": "code",
      "source": [
        "#exponenciação_**\n",
        "num_1 = 5\n",
        "num_2 = 4\n",
        "num_3 = 49580593\n",
        "num_4 = 208740284\n",
        "exponenciacao = num_1 ** num_2\n",
        "\n",
        "print(f\"o resultado da exponenciacao do {num_1} pelo {num_2} é {exponenciacao}\")\n",
        "\n",
        "\n"
      ],
      "metadata": {
        "colab": {
          "base_uri": "https://localhost:8080/"
        },
        "id": "cGH7JmZulRE4",
        "outputId": "78f617db-c751-41dd-ac23-9d6e18114bed"
      },
      "execution_count": null,
      "outputs": [
        {
          "output_type": "stream",
          "name": "stdout",
          "text": [
            "o resultado da exponenciacao do 5 pelo 4 é 625\n"
          ]
        }
      ]
    },
    {
      "cell_type": "code",
      "source": [
        "#divisão\n",
        "divisao = num_1 / num_2\n",
        "print(f\"o resultado da divisão do {num_1} pelo {num_2} é {divisao}\")"
      ],
      "metadata": {
        "colab": {
          "base_uri": "https://localhost:8080/"
        },
        "id": "hSN-mAi_nTEK",
        "outputId": "e3959d0f-c2da-448c-fb10-977e49070e09"
      },
      "execution_count": null,
      "outputs": [
        {
          "output_type": "stream",
          "name": "stdout",
          "text": [
            "o resultado da divisão do 5 pelo 4 é 1.25\n"
          ]
        }
      ]
    },
    {
      "cell_type": "code",
      "source": [
        "#divisão inteira \n",
        "\n",
        "divisao_inteira = num_1 // num_2\n",
        "print(f\"o resultado da divisão inteira do {num_1} pelo {num_2} é {divisao_inteira}\")\n"
      ],
      "metadata": {
        "colab": {
          "base_uri": "https://localhost:8080/"
        },
        "id": "iheswO2lov1M",
        "outputId": "9770cfa1-9b8b-4e9b-91f9-929ced712c15"
      },
      "execution_count": null,
      "outputs": [
        {
          "output_type": "stream",
          "name": "stdout",
          "text": [
            "o resultado da divisão inteira do 5 pelo 4 é 1\n"
          ]
        }
      ]
    },
    {
      "cell_type": "code",
      "source": [
        "#resto da divisão usado para saber se um número é par, por exemplo\n",
        "\n",
        "resto = num_1 % num_2\n",
        "print(f\"o resto da divisão do {num_1} pelo {num_2} é {resto}\")"
      ],
      "metadata": {
        "colab": {
          "base_uri": "https://localhost:8080/"
        },
        "id": "qD97rGNuo-5O",
        "outputId": "c3ec02d4-f07c-471e-81a0-873d19e4d5ea"
      },
      "execution_count": null,
      "outputs": [
        {
          "output_type": "stream",
          "name": "stdout",
          "text": [
            "o resto da divisão do 5 pelo 4 é 1\n"
          ]
        }
      ]
    },
    {
      "cell_type": "code",
      "source": [
        "\n",
        "\n"
      ],
      "metadata": {
        "id": "MRt93jM5qTVS"
      },
      "execution_count": null,
      "outputs": []
    },
    {
      "cell_type": "markdown",
      "source": [
        "#operadores de comparação\n",
        "\n",
        "\n",
        "== igual a\n",
        "\n",
        "> maior que\n",
        "\n",
        "< menor que\n",
        "\n",
        ">= maior igual<= menor igual\n",
        "\n",
        "!= diferente de\n",
        "\n",
        "\n",
        "\n"
      ],
      "metadata": {
        "id": "GZFHbWekqcsv"
      }
    },
    {
      "cell_type": "code",
      "source": [],
      "metadata": {
        "id": "VvKTh2K_qbCz"
      },
      "execution_count": null,
      "outputs": []
    },
    {
      "cell_type": "code",
      "source": [
        "#comparação \n",
        "x = 5\n",
        "print(x > 2 and x < 6)\n"
      ],
      "metadata": {
        "colab": {
          "base_uri": "https://localhost:8080/"
        },
        "id": "2uoWaA9Hrh7z",
        "outputId": "8f43ca63-1b32-43ae-af01-69d2d8af5555"
      },
      "execution_count": null,
      "outputs": [
        {
          "output_type": "stream",
          "name": "stdout",
          "text": [
            "True\n"
          ]
        }
      ]
    },
    {
      "cell_type": "code",
      "source": [
        "#ordem de precedência dos operqdores\n"
      ],
      "metadata": {
        "id": "xRiXkrgxsaYB"
      },
      "execution_count": null,
      "outputs": []
    },
    {
      "cell_type": "markdown",
      "source": [
        "Ordem de Precedência dos Operadores\n",
        "- Parentesis\n",
        "- Exponenciação\n",
        "- Multiplicação, divisão, módulo e divisão inteira\n",
        "- Adição e SubtraçÃo, que possuem a mesma precedência"
      ],
      "metadata": {
        "id": "2PDlTP4WsgRl"
      }
    },
    {
      "cell_type": "code",
      "source": [],
      "metadata": {
        "id": "7hGrD88Gs3C_"
      },
      "execution_count": null,
      "outputs": []
    },
    {
      "cell_type": "markdown",
      "source": [
        "**Estrutura de Condição IF e ELSE e EFLIF**\n",
        "\n",
        "Comandos de controle de fluxo/ *deixar um espaço na linha*\n",
        "\n",
        "if - Condição\n",
        "permite executar diferentes blocos de código\n",
        "else - quando não atinge a condição, executa este bloco\n"
      ],
      "metadata": {
        "id": "T-aMul9m0GbS"
      }
    },
    {
      "cell_type": "code",
      "source": [
        "if x>2:\n",
        "  print(\"que belezinha, x é maior que 2\")\n",
        "elif x<2:\n",
        "  print(\"volte ano que vem\")\n",
        "\n",
        "else:\n",
        "  print(\"deu ruim\")\n"
      ],
      "metadata": {
        "colab": {
          "base_uri": "https://localhost:8080/"
        },
        "id": "kVXBjECM0ykE",
        "outputId": "57f09fad-1c16-450a-fb84-7d72bd119ebe"
      },
      "execution_count": null,
      "outputs": [
        {
          "output_type": "stream",
          "name": "stdout",
          "text": [
            "que belezinha, x é maior que 2\n"
          ]
        }
      ]
    },
    {
      "cell_type": "code",
      "source": [
        "if x>=7:\n",
        "  print(\"parabéns! você está aprovado\")\n",
        "elif x<=5:\n",
        "  print(\"sinto muito, você foi reprovado\")\n",
        "else:\n",
        "  print(\"sua nota foi insuficiente, você está de recuperação\")"
      ],
      "metadata": {
        "colab": {
          "base_uri": "https://localhost:8080/"
        },
        "id": "J36pDbT11hUf",
        "outputId": "b390f2bf-d8a6-47b0-a4dd-a5cbabc46cb1"
      },
      "execution_count": null,
      "outputs": [
        {
          "output_type": "stream",
          "name": "stdout",
          "text": [
            "sinto muito, você foi reprovado\n"
          ]
        }
      ]
    },
    {
      "cell_type": "code",
      "source": [
        "nome = input(\"escreva seu nome:\")\n",
        "idade = int(input(\"qual sua idade?\"))\n",
        "if (idade >=0) and (idade <=9):\n",
        "  print(f\"{nome} você é uma criança\")\n",
        "elif (idade >9) and (idade <= 14):\n",
        "  print(f\"{nome} você é um pré-adolescente\")\n",
        "elif (idade >14) and (idade <=19):\n",
        "  print(f\"{nome} você é um adolescente\")\n",
        "elif (idade >15) and (idade <=24):\n",
        "  print(f\"{nome} você é xóvem!\")\n",
        "else:\n",
        "  print(f\"véizin\")"
      ],
      "metadata": {
        "colab": {
          "base_uri": "https://localhost:8080/"
        },
        "id": "0OHeKE9p38B2",
        "outputId": "ece56ea0-db6c-457b-8db1-15e2156721c1"
      },
      "execution_count": null,
      "outputs": [
        {
          "output_type": "stream",
          "name": "stdout",
          "text": [
            "escreva seu nome:fernando\n",
            "qual sua idade?45\n",
            "véizin\n"
          ]
        }
      ]
    },
    {
      "cell_type": "markdown",
      "source": [],
      "metadata": {
        "id": "CUVZStK-qOaw"
      }
    },
    {
      "cell_type": "code",
      "source": [
        "if (idade >=0) and (idade <=9):\n",
        "  print(f\"{nome} você é uma criança\")\n",
        "elif (idade >9) and (idade <= 14):\n",
        "  print(f\"{nome} você é um pré-adolescente\")\n",
        "elif (idade >14) and (idade <=19):\n",
        "  print(f\"{nome} você é um adolescente\")\n",
        "elif (idade >15) and (idade <=24):\n",
        "  print(f\"{nome} você é xóvem!\")\n",
        "else:\n",
        "  print(f\"véizin\")"
      ],
      "metadata": {
        "colab": {
          "base_uri": "https://localhost:8080/"
        },
        "id": "pPJPLR4T4ztX",
        "outputId": "bf9ada95-5e2b-4404-dc8e-457c64ced6ce"
      },
      "execution_count": null,
      "outputs": [
        {
          "output_type": "stream",
          "name": "stdout",
          "text": [
            "véizin\n"
          ]
        }
      ]
    },
    {
      "cell_type": "markdown",
      "source": [
        "**Estrutura de dados - Listas**\n",
        "\n",
        "Métodos da lista\n",
        "- Append(x): adiciona um item ao fim da lista\n",
        "- extend(iterable): prolonga a lista, adicionando no fim todos os elementos passados como parêmetro\n",
        "- insert(i,x): insere um item em uma dada posição. O primeiro argumento é o indice do elementos antes do qual será feita a inserção\n",
        "- remove(x): remove o primeiro item encontrado na lista cujo valor = x\n",
        "- pop([i]): remove um item em uma dada posição na lista e retorna. Se nenhum indíce é especificado, a pop() remove e devolve o último item da lista\n",
        "- clear(): remove todos os itens de uma lista\n",
        "- index(x): devolve o índice do primeiro item cujo valor é igual a x\n",
        "- count(x): devolve o número de vezes que x aparece na lista\n",
        "- sort(,key=None, reverse=False): Ordena os itens na lista (os argumentos podem ser usados para personalizar a ordenação"
      ],
      "metadata": {
        "id": "KU18rYUb9gxx"
      }
    },
    {
      "cell_type": "code",
      "source": [
        "#Acessando elementos da lista - a numeração começa do zero\n",
        "\n",
        "frutas = ['maca', 'banana', 'abacaxi', 'mamao']\n",
        "temperos = ['sal', 'pimenta', 'coentro']\n",
        "print(frutas[2])\n",
        "print(temperos[-1])\n",
        "print(len(frutas))"
      ],
      "metadata": {
        "colab": {
          "base_uri": "https://localhost:8080/"
        },
        "id": "k3xAY5kGAgvr",
        "outputId": "dc43980c-bddc-499e-d545-e26250d844b5"
      },
      "execution_count": null,
      "outputs": [
        {
          "output_type": "stream",
          "name": "stdout",
          "text": [
            "abacaxi\n",
            "coentro\n",
            "4\n"
          ]
        }
      ]
    },
    {
      "cell_type": "code",
      "source": [
        "frutas[2]= 'acerola'\n",
        "print(frutas)"
      ],
      "metadata": {
        "colab": {
          "base_uri": "https://localhost:8080/"
        },
        "id": "5-ZahvQjB-rq",
        "outputId": "e8381595-f142-42de-cbbf-d139d5f4f1d1"
      },
      "execution_count": null,
      "outputs": [
        {
          "output_type": "stream",
          "name": "stdout",
          "text": [
            "['maca', 'banana', 'acerola', 'mamao']\n"
          ]
        }
      ]
    },
    {
      "cell_type": "code",
      "source": [
        "#fatiando listas\n",
        "#lista[inicio:fim:passo] sendo passo um parâmetro opcional para pular elementos\n",
        "\n",
        "lista=[2,4,6,12,45,23,5,7,8]\n"
      ],
      "metadata": {
        "id": "ZhoehkleCMHh"
      },
      "execution_count": null,
      "outputs": []
    },
    {
      "cell_type": "code",
      "source": [
        "print(lista [3:7])"
      ],
      "metadata": {
        "colab": {
          "base_uri": "https://localhost:8080/"
        },
        "id": "C9NWjey8CpMK",
        "outputId": "f27937ce-fce2-46d1-e5fd-bf9598e4548c"
      },
      "execution_count": null,
      "outputs": [
        {
          "output_type": "stream",
          "name": "stdout",
          "text": [
            "[12, 45, 23, 5]\n"
          ]
        }
      ]
    },
    {
      "cell_type": "code",
      "source": [
        "print(lista[:6])"
      ],
      "metadata": {
        "colab": {
          "base_uri": "https://localhost:8080/"
        },
        "id": "FLmomyaJDHj4",
        "outputId": "5f8c971c-d7ea-4421-b6fe-d8b111135806"
      },
      "execution_count": null,
      "outputs": [
        {
          "output_type": "stream",
          "name": "stdout",
          "text": [
            "[2, 4, 6, 12, 45, 23]\n"
          ]
        }
      ]
    },
    {
      "cell_type": "code",
      "source": [
        "print(lista[5:])"
      ],
      "metadata": {
        "colab": {
          "base_uri": "https://localhost:8080/"
        },
        "id": "6uHkJR3WDXFm",
        "outputId": "f1d6af6a-9792-4392-c5aa-15f6046eb2d2"
      },
      "execution_count": null,
      "outputs": [
        {
          "output_type": "stream",
          "name": "stdout",
          "text": [
            "[23, 5, 7, 8]\n"
          ]
        }
      ]
    },
    {
      "cell_type": "code",
      "source": [
        "#metodos\n",
        "\n",
        "lista=[2,4,6,12,45,23,5,7,8, 'renata', 'fernando', 'computador']\n"
      ],
      "metadata": {
        "id": "uVpHSiirDg6x"
      },
      "execution_count": null,
      "outputs": []
    },
    {
      "cell_type": "code",
      "source": [
        "lista.append(504)\n",
        "print(lista)"
      ],
      "metadata": {
        "colab": {
          "base_uri": "https://localhost:8080/"
        },
        "id": "uzc2dNDKD4is",
        "outputId": "921e6e4e-7673-46ab-851e-0e19c9ad29e7"
      },
      "execution_count": null,
      "outputs": [
        {
          "output_type": "stream",
          "name": "stdout",
          "text": [
            "[2, 4, 6, 12, 45, 23, 5, 7, 8, 'renata', 'fernando', 'computador', 504]\n"
          ]
        }
      ]
    },
    {
      "cell_type": "code",
      "source": [
        "print(lista.index('renata'))"
      ],
      "metadata": {
        "colab": {
          "base_uri": "https://localhost:8080/"
        },
        "id": "16XZAFBTECla",
        "outputId": "b5bcb87d-a210-4297-997a-cecc1bec0c5b"
      },
      "execution_count": null,
      "outputs": [
        {
          "output_type": "stream",
          "name": "stdout",
          "text": [
            "9\n"
          ]
        }
      ]
    },
    {
      "cell_type": "code",
      "source": [
        "#inserindo um item na posição 1\n",
        "lista.insert(1,'pesto')\n",
        "print(lista)"
      ],
      "metadata": {
        "colab": {
          "base_uri": "https://localhost:8080/"
        },
        "id": "pyuoWZtKEVkf",
        "outputId": "b2a92b8c-6541-4087-d616-b4ca8e66d0d3"
      },
      "execution_count": null,
      "outputs": [
        {
          "output_type": "stream",
          "name": "stdout",
          "text": [
            "[2, 'pesto', 4, 6, 12, 45, 23, 5, 7, 8, 'renata', 'fernando', 'computador', 504]\n"
          ]
        }
      ]
    },
    {
      "cell_type": "code",
      "source": [
        "#removendo último\n",
        "lista.pop()\n",
        "print(lista)\n"
      ],
      "metadata": {
        "colab": {
          "base_uri": "https://localhost:8080/"
        },
        "id": "q_oqrqsMEwms",
        "outputId": "7f7c8840-e09b-4e71-92c9-cbcc62747192"
      },
      "execution_count": null,
      "outputs": [
        {
          "output_type": "stream",
          "name": "stdout",
          "text": [
            "[2, 'pesto', 4, 6, 12, 45, 23, 5, 7, 8, 'renata', 'fernando', 'computador']\n"
          ]
        }
      ]
    },
    {
      "cell_type": "code",
      "source": [
        "#removendo pesto\n",
        "lista.pop(1)\n",
        "print(lista)"
      ],
      "metadata": {
        "colab": {
          "base_uri": "https://localhost:8080/"
        },
        "id": "9RCVc35uE-Kn",
        "outputId": "d7a68478-29ec-4223-8e2f-4969cb2aefce"
      },
      "execution_count": null,
      "outputs": [
        {
          "output_type": "stream",
          "name": "stdout",
          "text": [
            "[2, 4, 6, 12, 45, 23, 5, 7, 8, 'renata', 'fernando', 'computador']\n"
          ]
        }
      ]
    },
    {
      "cell_type": "code",
      "source": [
        "#removendo elemento específico\n",
        "lista.remove('computador')\n",
        "print(lista)"
      ],
      "metadata": {
        "colab": {
          "base_uri": "https://localhost:8080/"
        },
        "id": "IyW1lDLZFMEa",
        "outputId": "2fbc90e5-4a82-4d16-8e3a-4bf322cb98ce"
      },
      "execution_count": null,
      "outputs": [
        {
          "output_type": "stream",
          "name": "stdout",
          "text": [
            "[2, 4, 6, 12, 45, 23, 5, 7, 8, 'renata', 'fernando']\n"
          ]
        }
      ]
    },
    {
      "cell_type": "code",
      "source": [
        "lista.remove('renata') and lista.remove('fernando')\n",
        "print(lista)"
      ],
      "metadata": {
        "colab": {
          "base_uri": "https://localhost:8080/"
        },
        "id": "GzYPk6uKFW6i",
        "outputId": "7687d13d-e3b8-473d-ebee-10e02aa22a82"
      },
      "execution_count": null,
      "outputs": [
        {
          "output_type": "stream",
          "name": "stdout",
          "text": [
            "[2, 4, 5, 6, 7, 8, 12, 23, 45]\n"
          ]
        }
      ]
    },
    {
      "cell_type": "code",
      "source": [
        "#ordenando a lista\n",
        "lista.sort()\n",
        "print(lista)"
      ],
      "metadata": {
        "colab": {
          "base_uri": "https://localhost:8080/"
        },
        "id": "3ZLeGAmSF9AJ",
        "outputId": "e4b37334-04e2-477d-d7c2-4325150f0869"
      },
      "execution_count": null,
      "outputs": [
        {
          "output_type": "stream",
          "name": "stdout",
          "text": [
            "[2, 4, 5, 6, 7, 8, 12, 23, 45]\n"
          ]
        }
      ]
    },
    {
      "cell_type": "code",
      "source": [
        "#ordenando decrescente\n",
        "lista.sort(reverse=True)\n",
        "print(lista)"
      ],
      "metadata": {
        "colab": {
          "base_uri": "https://localhost:8080/"
        },
        "id": "BlQHFu1NF_Tg",
        "outputId": "fb6e8b88-cf30-4945-a96f-0feb1b537563"
      },
      "execution_count": null,
      "outputs": [
        {
          "output_type": "stream",
          "name": "stdout",
          "text": [
            "[45, 23, 12, 8, 7, 6, 5, 4, 2]\n"
          ]
        }
      ]
    },
    {
      "cell_type": "code",
      "source": [
        "#contando quantas vezes um elemento aparece\n",
        "\n",
        "print(lista.count(45))"
      ],
      "metadata": {
        "colab": {
          "base_uri": "https://localhost:8080/"
        },
        "id": "UpuGYBWNGfzc",
        "outputId": "447e9097-7432-4170-e297-349372e2ef2a"
      },
      "execution_count": null,
      "outputs": [
        {
          "output_type": "stream",
          "name": "stdout",
          "text": [
            "1\n"
          ]
        }
      ]
    },
    {
      "cell_type": "code",
      "source": [
        "#extendendo a lista com novos valores\n",
        "\n",
        "lista.extend([18,45,6,2,8,90])\n",
        "print(lista)"
      ],
      "metadata": {
        "colab": {
          "base_uri": "https://localhost:8080/"
        },
        "id": "ja4c1K9hGx1F",
        "outputId": "701075f7-1a03-4930-9dd5-0780cf5dd46e"
      },
      "execution_count": null,
      "outputs": [
        {
          "output_type": "stream",
          "name": "stdout",
          "text": [
            "[45, 23, 12, 8, 7, 6, 5, 4, 2, 18, 45, 6, 2, 8, 90]\n"
          ]
        }
      ]
    },
    {
      "cell_type": "code",
      "source": [
        "lista.sort(reverse=True)\n",
        "print(lista)"
      ],
      "metadata": {
        "colab": {
          "base_uri": "https://localhost:8080/"
        },
        "id": "Z6leGVcmHAou",
        "outputId": "514043bf-d1c4-478d-ae62-083d7f92b724"
      },
      "execution_count": null,
      "outputs": [
        {
          "output_type": "stream",
          "name": "stdout",
          "text": [
            "[90, 45, 45, 23, 18, 12, 8, 8, 7, 6, 6, 5, 4, 2, 2]\n"
          ]
        }
      ]
    },
    {
      "cell_type": "code",
      "source": [
        "print(lista.count(45))"
      ],
      "metadata": {
        "colab": {
          "base_uri": "https://localhost:8080/"
        },
        "id": "ioQ1or-RHIMD",
        "outputId": "6bc66977-762f-45e0-ad99-7c1a3767854f"
      },
      "execution_count": null,
      "outputs": [
        {
          "output_type": "stream",
          "name": "stdout",
          "text": [
            "2\n"
          ]
        }
      ]
    },
    {
      "cell_type": "code",
      "source": [
        "lista.clear()\n",
        "print(lista)"
      ],
      "metadata": {
        "colab": {
          "base_uri": "https://localhost:8080/",
          "height": 187
        },
        "id": "Xn3hnCpNHMrj",
        "outputId": "3e6f73b8-38f5-47ee-a62b-b175295d1f96"
      },
      "execution_count": null,
      "outputs": [
        {
          "output_type": "error",
          "ename": "NameError",
          "evalue": "ignored",
          "traceback": [
            "\u001b[0;31m---------------------------------------------------------------------------\u001b[0m",
            "\u001b[0;31mNameError\u001b[0m                                 Traceback (most recent call last)",
            "\u001b[0;32m<ipython-input-1-b52143eec487>\u001b[0m in \u001b[0;36m<module>\u001b[0;34m\u001b[0m\n\u001b[0;32m----> 1\u001b[0;31m \u001b[0mlista\u001b[0m\u001b[0;34m.\u001b[0m\u001b[0mclear\u001b[0m\u001b[0;34m(\u001b[0m\u001b[0;34m)\u001b[0m\u001b[0;34m\u001b[0m\u001b[0;34m\u001b[0m\u001b[0m\n\u001b[0m\u001b[1;32m      2\u001b[0m \u001b[0mprint\u001b[0m\u001b[0;34m(\u001b[0m\u001b[0mlista\u001b[0m\u001b[0;34m)\u001b[0m\u001b[0;34m\u001b[0m\u001b[0;34m\u001b[0m\u001b[0m\n",
            "\u001b[0;31mNameError\u001b[0m: name 'lista' is not defined"
          ]
        }
      ]
    },
    {
      "cell_type": "markdown",
      "source": [
        "# ESTRUTURA DE DADOS - TUPLAS\n",
        "\n",
        "funcionam como listas, mas são imutáveis.\n",
        "São criadas utilizando parênteses.\n",
        "\n",
        "tupla = ()\n",
        "usando funções nativas: tupla = tuple()\n",
        "\n",
        "A principal diferença é a imutabilidade.\n",
        "São indicadas para armazenar dados hererogêneos.\n"
      ],
      "metadata": {
        "id": "6mXEu2MzqRXf"
      }
    },
    {
      "cell_type": "code",
      "source": [
        "tuple =('renata', 'feijão', 'mercado_novo', 'quiabo', 23, 45,)\n",
        "print(tuple)"
      ],
      "metadata": {
        "colab": {
          "base_uri": "https://localhost:8080/"
        },
        "id": "IsNHVZ4vrCGT",
        "outputId": "05ceafaa-279b-4bc3-8d43-55f4d9ecdcc0"
      },
      "execution_count": null,
      "outputs": [
        {
          "output_type": "stream",
          "name": "stdout",
          "text": [
            "('renata', 'feijão', 'mercado_novo', 'quiabo', 23, 45)\n"
          ]
        }
      ]
    },
    {
      "cell_type": "code",
      "source": [
        "print(type(tuple))"
      ],
      "metadata": {
        "colab": {
          "base_uri": "https://localhost:8080/"
        },
        "id": "IAje19b6r5Jm",
        "outputId": "fae2fdc6-b032-4cad-938e-a988ce6117c1"
      },
      "execution_count": null,
      "outputs": [
        {
          "output_type": "stream",
          "name": "stdout",
          "text": [
            "<class 'tuple'>\n"
          ]
        }
      ]
    },
    {
      "cell_type": "code",
      "source": [
        "print(tuple[5])"
      ],
      "metadata": {
        "colab": {
          "base_uri": "https://localhost:8080/"
        },
        "id": "HQ8gqMkBsG-z",
        "outputId": "5b5c1242-58b3-4bfb-ae3f-436c3e158c0e"
      },
      "execution_count": null,
      "outputs": [
        {
          "output_type": "stream",
          "name": "stdout",
          "text": [
            "45\n"
          ]
        }
      ]
    },
    {
      "cell_type": "code",
      "source": [
        "#criando tuplas de listas\n",
        "\n",
        "tuple = ([1,2,3], ['a', 'b', 'c'])\n",
        "print(tuple)"
      ],
      "metadata": {
        "colab": {
          "base_uri": "https://localhost:8080/"
        },
        "id": "LWGtS_0SsjgF",
        "outputId": "5bf5eeb8-fafd-4546-9b11-e9414e5d1a8f"
      },
      "execution_count": null,
      "outputs": [
        {
          "output_type": "stream",
          "name": "stdout",
          "text": [
            "([1, 2, 3], ['a', 'b', 'c'])\n"
          ]
        }
      ]
    },
    {
      "cell_type": "code",
      "source": [
        "#criando listas de tuplas\n",
        "lista= [(1,2,3), ('renata', 'rafael', 'fernando')]\n",
        "print(lista)"
      ],
      "metadata": {
        "colab": {
          "base_uri": "https://localhost:8080/"
        },
        "id": "H7Ah1dD8tJc_",
        "outputId": "6ebc0080-1bd2-443b-f324-cdcc66c6a594"
      },
      "execution_count": null,
      "outputs": [
        {
          "output_type": "stream",
          "name": "stdout",
          "text": [
            "[(1, 2, 3), ('renata', 'rafael', 'fernando')]\n"
          ]
        }
      ]
    },
    {
      "cell_type": "code",
      "source": [
        "lista.extend ([(4,5,6), ('queijo', 'pesto', 'tomate')])\n",
        "print(lista)"
      ],
      "metadata": {
        "colab": {
          "base_uri": "https://localhost:8080/"
        },
        "id": "ANGYfICdte_r",
        "outputId": "cce009c4-473a-420b-dcce-2308bad80a3c"
      },
      "execution_count": null,
      "outputs": [
        {
          "output_type": "stream",
          "name": "stdout",
          "text": [
            "[(1, 2, 3), ('renata', 'rafael', 'fernando'), (4, 5, 6), ('queijo', 'pesto', 'tomate'), (4, 5, 6), ('queijo', 'pesto', 'tomate')]\n"
          ]
        }
      ]
    },
    {
      "cell_type": "markdown",
      "source": [
        "# ESTRUTURA DE DADOS\n",
        "\n",
        "DICIONÁRIOS\n",
        "Um dicionário é uma coleção de dados - objeto que contém mais de um valor.\n",
        "diferentemente das listas e tuplas, os elementos são acessados através de uma posição ou índice. \n",
        "- Acesso a informações através de chaves\n",
        "- Elementos adicionados de forma não ordenada\n",
        "\n",
        "Método dos dicionários\n",
        "\n",
        "- get(key[, default]) : retorna o valor da chave se elaestiver no sicionnário, senão default\n",
        "- keys(): retorna as chaves do dicionário\n",
        "- values(): retorna os valores do dicionário\n",
        "- pop(key[,default]): se a chave estiver no dicionário, remoca-a e retorne seu valor, senão retorne default\n",
        "- popitem(): remove o último elemento do dicionário\n",
        "- clear(): remova todos os itens do dicionário\n",
        "- update(): atualize o dicionário com chave/valor\n"
      ],
      "metadata": {
        "id": "4dLYcsaLuLU9"
      }
    },
    {
      "cell_type": "code",
      "source": [
        "#criando dicionários usando chaves\n",
        "\n",
        "dicionario = {}\n",
        "\n",
        "#criando dicionários usando funções nativas\n",
        "\n",
        "dicionario = dict(primeiro=1, segundo=2, terceiro=3)"
      ],
      "metadata": {
        "id": "SVccPJyCvv2T"
      },
      "execution_count": null,
      "outputs": []
    },
    {
      "cell_type": "code",
      "source": [
        "print(dicionario)"
      ],
      "metadata": {
        "colab": {
          "base_uri": "https://localhost:8080/"
        },
        "id": "IZgxpS83wQdX",
        "outputId": "8349ac1b-f0f6-483b-c801-dd839ec60f07"
      },
      "execution_count": null,
      "outputs": [
        {
          "output_type": "stream",
          "name": "stdout",
          "text": [
            "{'primeiro': 1, 'segundo': 2, 'terceiro': 3}\n"
          ]
        }
      ]
    },
    {
      "cell_type": "code",
      "source": [
        "dicionario = {1:'renata', 2: 'Fernando', 3: 'Rafael'}\n",
        "print(dicionario)"
      ],
      "metadata": {
        "colab": {
          "base_uri": "https://localhost:8080/"
        },
        "id": "UrqmEa8k9Env",
        "outputId": "bd29c3f1-239e-48e2-97ff-b69e267c618e"
      },
      "execution_count": null,
      "outputs": [
        {
          "output_type": "stream",
          "name": "stdout",
          "text": [
            "{1: 'renata', 2: 'Fernando', 3: 'Rafael'}\n"
          ]
        }
      ]
    },
    {
      "cell_type": "code",
      "source": [
        "dicionario = {'nome': 'renata', 'idade': 41, 'peso': 70}\n",
        "print(dicionario)\n"
      ],
      "metadata": {
        "colab": {
          "base_uri": "https://localhost:8080/"
        },
        "id": "CNRG0p3i9UMa",
        "outputId": "17ac524e-807c-420e-d7eb-768ec83f8aa5"
      },
      "execution_count": null,
      "outputs": [
        {
          "output_type": "stream",
          "name": "stdout",
          "text": [
            "{'nome': 'renata', 'idade': 41, 'peso': 70}\n"
          ]
        }
      ]
    },
    {
      "cell_type": "code",
      "source": [
        "print(len(dicionario))"
      ],
      "metadata": {
        "colab": {
          "base_uri": "https://localhost:8080/"
        },
        "id": "yBstKRh0-FJP",
        "outputId": "6df7e466-8e08-42bd-a64b-ac990065ac7b"
      },
      "execution_count": null,
      "outputs": [
        {
          "output_type": "stream",
          "name": "stdout",
          "text": [
            "3\n"
          ]
        }
      ]
    },
    {
      "cell_type": "code",
      "source": [
        "fernando = { 'aniversario': \"22/09\", 'altura': 1.73, 'calcado':42, 'bebida': 'vinho', 'musica': 'rock' }\n",
        "print(len(fernando))\n",
        "print(fernando.keys())\n",
        "print(fernando.get('altura'))\n",
        "print(fernando.values())"
      ],
      "metadata": {
        "colab": {
          "base_uri": "https://localhost:8080/"
        },
        "id": "8OnDHIWg-Xoq",
        "outputId": "087a6bf3-b239-4075-af72-0f7d6d22aff2"
      },
      "execution_count": null,
      "outputs": [
        {
          "output_type": "stream",
          "name": "stdout",
          "text": [
            "5\n",
            "dict_keys(['aniversario', 'altura', 'calcado', 'bebida', 'musica'])\n",
            "1.73\n",
            "dict_values(['22/09', 1.73, 42, 'vinho', 'rock'])\n"
          ]
        }
      ]
    },
    {
      "cell_type": "code",
      "source": [
        "#POP especificar a chave que dever ser removida\n",
        "\n",
        "\n",
        "print(fernando)"
      ],
      "metadata": {
        "colab": {
          "base_uri": "https://localhost:8080/"
        },
        "id": "Z6fpeZktA94u",
        "outputId": "319d63c7-f11d-4d5c-a88e-8b7cf2ff3191"
      },
      "execution_count": null,
      "outputs": [
        {
          "output_type": "stream",
          "name": "stdout",
          "text": [
            "{'aniversario': '22/09', 'altura': 1.73, 'bebida': 'vinho', 'musica': 'rock'}\n"
          ]
        }
      ]
    },
    {
      "cell_type": "code",
      "source": [
        "fernando.popitem()\n",
        "print(fernando)"
      ],
      "metadata": {
        "colab": {
          "base_uri": "https://localhost:8080/"
        },
        "id": "d6XfjTgRBm4j",
        "outputId": "f9f5ab9b-33be-4e17-8f37-2e4017bee617"
      },
      "execution_count": null,
      "outputs": [
        {
          "output_type": "stream",
          "name": "stdout",
          "text": [
            "{'aniversario': '22/09', 'altura': 1.73, 'bebida': 'vinho'}\n"
          ]
        }
      ]
    },
    {
      "cell_type": "code",
      "source": [
        "#itens\n",
        "print(fernando.items())"
      ],
      "metadata": {
        "colab": {
          "base_uri": "https://localhost:8080/"
        },
        "id": "sfScBtPdBOlj",
        "outputId": "34b4de96-7ba9-45c9-b21d-1e393e90f9ff"
      },
      "execution_count": null,
      "outputs": [
        {
          "output_type": "stream",
          "name": "stdout",
          "text": [
            "dict_items([('aniversario', '22/09'), ('altura', 1.73), ('bebida', 'vinho')])\n"
          ]
        }
      ]
    },
    {
      "cell_type": "code",
      "source": [
        "#adicionando itens ao dicionário\n",
        "\n",
        "fernando ['calcado']= 42\n",
        "print(fernando)"
      ],
      "metadata": {
        "colab": {
          "base_uri": "https://localhost:8080/"
        },
        "id": "nGzSLJ3ICZvn",
        "outputId": "8e3896da-9b10-45d9-fcf4-3893d284b4f2"
      },
      "execution_count": null,
      "outputs": [
        {
          "output_type": "stream",
          "name": "stdout",
          "text": [
            "{'aniversario': '22/09', 'altura': 1.73, 'bebida': 'vinho', 'calcado': 42}\n"
          ]
        }
      ]
    },
    {
      "cell_type": "code",
      "source": [
        "#atualizando dados do dicionário\n",
        "fernando.update ({'calcado': 43})\n",
        "print(fernando)"
      ],
      "metadata": {
        "colab": {
          "base_uri": "https://localhost:8080/"
        },
        "id": "ECJgsQVqDOIo",
        "outputId": "4df23ea0-d54c-452a-d35b-f778c69d27b5"
      },
      "execution_count": null,
      "outputs": [
        {
          "output_type": "stream",
          "name": "stdout",
          "text": [
            "{'aniversario': '22/09', 'altura': 1.73, 'bebida': 'vinho', 'calcado': 43}\n"
          ]
        }
      ]
    },
    {
      "cell_type": "markdown",
      "source": [
        "Lembrando:\n",
        "Clear = limpa o dicionário dicionario.clear\n",
        "DEL = exclui todo o dicionário, deixa de existir dicionario.del"
      ],
      "metadata": {
        "id": "dE5AwQPyD9c7"
      }
    },
    {
      "cell_type": "markdown",
      "source": [
        "## ESTRUTURA DE REPETIÇÃO\n",
        "\n",
        "Um loop for é uma instrução para iterar sobre uma sequencia (lista, dicionário entre outros), permitindo que o código seja executado inúmeras vezes.\n",
        "\n",
        "![Captura de Tela 2022-12-30 às 19.17.44.png](data:image/png;base64,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)"
      ],
      "metadata": {
        "id": "llMngRmDEN8F"
      }
    },
    {
      "cell_type": "code",
      "source": [],
      "metadata": {
        "id": "4jBCfbn3HUuB"
      },
      "execution_count": null,
      "outputs": []
    },
    {
      "cell_type": "markdown",
      "source": [
        "essa função se aplica quando sabemos a quantidade de  vezes que deverá ser aplicada a função\n"
      ],
      "metadata": {
        "id": "D7__C3mBHZJQ"
      }
    },
    {
      "cell_type": "code",
      "source": [
        "mensagem = \"Você consegue, você é foda!\"\n",
        "print(mensagem)\n",
        "print(mensagem)\n",
        "print(mensagem)\n",
        "\n"
      ],
      "metadata": {
        "colab": {
          "base_uri": "https://localhost:8080/"
        },
        "id": "Dfy0BJ2vHv0R",
        "outputId": "35589f24-dab2-4848-dada-cb787ede2c31"
      },
      "execution_count": null,
      "outputs": [
        {
          "output_type": "stream",
          "name": "stdout",
          "text": [
            "Você consegue, você é foda!\n",
            "Você consegue, você é foda!\n",
            "Você consegue, você é foda!\n"
          ]
        }
      ]
    },
    {
      "cell_type": "code",
      "source": [
        "#otimizando\n",
        "\n",
        "for i in range(5):\n",
        "  print(mensagem)"
      ],
      "metadata": {
        "colab": {
          "base_uri": "https://localhost:8080/"
        },
        "id": "C6MJKJFQILhv",
        "outputId": "2d4f4c37-d52e-4f8f-c54e-e7100b4858a3"
      },
      "execution_count": null,
      "outputs": [
        {
          "output_type": "stream",
          "name": "stdout",
          "text": [
            "Você consegue, você é foda!\n",
            "Você consegue, você é foda!\n",
            "Você consegue, você é foda!\n",
            "Você consegue, você é foda!\n",
            "Você consegue, você é foda!\n"
          ]
        }
      ]
    },
    {
      "cell_type": "code",
      "source": [
        "for i in range (5):\n",
        "  print(i)"
      ],
      "metadata": {
        "colab": {
          "base_uri": "https://localhost:8080/"
        },
        "id": "S1cT5p_zH_Eq",
        "outputId": "a8a56867-d0e7-41e3-a45f-6611e501d34b"
      },
      "execution_count": null,
      "outputs": [
        {
          "output_type": "stream",
          "name": "stdout",
          "text": [
            "0\n",
            "1\n",
            "2\n",
            "3\n",
            "4\n"
          ]
        }
      ]
    },
    {
      "cell_type": "code",
      "source": [
        "#range inicio, final, passo\n",
        "for i in range(1,10):\n",
        "  print(i)\n"
      ],
      "metadata": {
        "colab": {
          "base_uri": "https://localhost:8080/"
        },
        "id": "m7ObOTAxJgDQ",
        "outputId": "d2241762-ce0d-4b19-93b6-ffad93c6a785"
      },
      "execution_count": null,
      "outputs": [
        {
          "output_type": "stream",
          "name": "stdout",
          "text": [
            "1\n",
            "2\n",
            "3\n",
            "4\n",
            "5\n",
            "6\n",
            "7\n",
            "8\n",
            "9\n"
          ]
        }
      ]
    },
    {
      "cell_type": "code",
      "source": [
        "for i in range(1,10,2):\n",
        "  print(i)"
      ],
      "metadata": {
        "colab": {
          "base_uri": "https://localhost:8080/"
        },
        "id": "HGCkSMqUJ5ta",
        "outputId": "f73a1b51-c025-4354-b0f5-9274e3b172d0"
      },
      "execution_count": null,
      "outputs": [
        {
          "output_type": "stream",
          "name": "stdout",
          "text": [
            "1\n",
            "3\n",
            "5\n",
            "7\n",
            "9\n"
          ]
        }
      ]
    },
    {
      "cell_type": "code",
      "source": [
        "#escreva um programa que soma todos os números de 1 a 100\n",
        "\n",
        "soma = 0\n",
        "for i in range(1,101):\n",
        "  soma = soma + i\n",
        "  \n"
      ],
      "metadata": {
        "id": "Pd_pg4ffKA8E"
      },
      "execution_count": null,
      "outputs": []
    },
    {
      "cell_type": "code",
      "source": [
        "print(soma)"
      ],
      "metadata": {
        "colab": {
          "base_uri": "https://localhost:8080/"
        },
        "id": "LkAWBoMlMRL-",
        "outputId": "630a2b6c-03fc-4db3-b278-fae8015d97d4"
      },
      "execution_count": null,
      "outputs": [
        {
          "output_type": "stream",
          "name": "stdout",
          "text": [
            "5050\n"
          ]
        }
      ]
    },
    {
      "cell_type": "code",
      "source": [
        "soma = 0\n",
        "for i in range(5):\n",
        "  numero= int(input(\"digite um número\"))\n",
        "  soma = soma + numero\n",
        "print(f\"a soma dos numeros é {soma}\")\n"
      ],
      "metadata": {
        "colab": {
          "base_uri": "https://localhost:8080/"
        },
        "id": "K5XdTlHrMY65",
        "outputId": "4d4a4559-528d-494c-cf58-6ff0bf695408"
      },
      "execution_count": null,
      "outputs": [
        {
          "output_type": "stream",
          "name": "stdout",
          "text": [
            "digite um número8\n",
            "digite um número123\n",
            "digite um número45\n",
            "digite um número89\n",
            "digite um número203\n",
            "a soma dos numeros é 468\n"
          ]
        }
      ]
    },
    {
      "cell_type": "code",
      "source": [
        "lista = [1, 2, 3, 4, 5]\n",
        "for i in lista:\n",
        "  print(i)\n",
        "  "
      ],
      "metadata": {
        "colab": {
          "base_uri": "https://localhost:8080/"
        },
        "id": "AOvNX1OlPScK",
        "outputId": "b7d84e08-50d2-4732-95ac-d417278270a4"
      },
      "execution_count": null,
      "outputs": [
        {
          "output_type": "stream",
          "name": "stdout",
          "text": [
            "1\n",
            "2\n",
            "3\n",
            "4\n",
            "5\n"
          ]
        }
      ]
    },
    {
      "cell_type": "code",
      "source": [
        "for i in fernando.items():\n",
        "  print(i)\n"
      ],
      "metadata": {
        "colab": {
          "base_uri": "https://localhost:8080/"
        },
        "id": "a8gDZKBHPkMS",
        "outputId": "a201a6d5-75bf-4b85-c48f-547c5d3c3e06"
      },
      "execution_count": null,
      "outputs": [
        {
          "output_type": "stream",
          "name": "stdout",
          "text": [
            "('aniversario', '22/09')\n",
            "('altura', 1.73)\n",
            "('bebida', 'vinho')\n",
            "('calcado', 43)\n"
          ]
        }
      ]
    },
    {
      "cell_type": "code",
      "source": [
        "for chave, valor in fernando.items():\n",
        "  print(f'chave = {chave} e valor = {valor}')"
      ],
      "metadata": {
        "colab": {
          "base_uri": "https://localhost:8080/"
        },
        "id": "081tYQ02QKX-",
        "outputId": "1f294311-d049-49e1-9cd1-1be8a4690a37"
      },
      "execution_count": null,
      "outputs": [
        {
          "output_type": "stream",
          "name": "stdout",
          "text": [
            "chave = aniversario e valor = 22/09\n",
            "chave = altura e valor = 1.73\n",
            "chave = bebida e valor = vinho\n",
            "chave = calcado e valor = 43\n"
          ]
        }
      ]
    },
    {
      "cell_type": "markdown",
      "source": [
        "Funções\n",
        "\n",
        "blocos de código com funcionalidades específicas, utilizados para evitar que determinada parte seja escrita várias vezes.\n",
        "\n",
        "Pode receber qualquer nome, exceto as palavras reservadas da linguagem. usar letras minúsculas, sem acento e underscore.\n",
        "\n",
        "def funcao() - os parágrafos são uasados para definir os parâmetros\n"
      ],
      "metadata": {
        "id": "aWUHuUxb8sPW"
      }
    },
    {
      "cell_type": "code",
      "source": [
        "def funcao():\n",
        "  print(\"olá mundo\")\n"
      ],
      "metadata": {
        "id": "eEEZejAx9Rox"
      },
      "execution_count": null,
      "outputs": []
    },
    {
      "cell_type": "code",
      "source": [
        "funcao()\n"
      ],
      "metadata": {
        "colab": {
          "base_uri": "https://localhost:8080/"
        },
        "id": "v5zZhTEY9a3G",
        "outputId": "25fbad3b-04c8-4d7c-9e49-bea889ae4650"
      },
      "execution_count": null,
      "outputs": [
        {
          "output_type": "stream",
          "name": "stdout",
          "text": [
            "olá mundo\n"
          ]
        }
      ]
    },
    {
      "cell_type": "markdown",
      "source": [
        "#funcoes nativas\n",
        "print\n",
        "input\n",
        "min()  #retorna o valor míonimo de uma lista\n",
        "max() - retorna o valor máximo\n",
        "sum ([1,2,3])\n",
        "etc\n"
      ],
      "metadata": {
        "id": "p0L84pek-FPD"
      }
    },
    {
      "cell_type": "code",
      "source": [
        "def soma():\n",
        "  somar_numeros= 10 + 2\n",
        "  print(f\"A soma é igual a {somar_numeros}\")"
      ],
      "metadata": {
        "id": "FhC4TRzd-YH7"
      },
      "execution_count": null,
      "outputs": []
    },
    {
      "cell_type": "code",
      "source": [
        "soma()"
      ],
      "metadata": {
        "colab": {
          "base_uri": "https://localhost:8080/"
        },
        "id": "orux3jco-xNE",
        "outputId": "20ce4b6d-6399-4e05-b9c7-9d8833f17bb9"
      },
      "execution_count": null,
      "outputs": [
        {
          "output_type": "stream",
          "name": "stdout",
          "text": [
            "A soma é igual a 12\n"
          ]
        }
      ]
    },
    {
      "cell_type": "code",
      "source": [
        "def soma_II (a, b, c, d):\n",
        "  somar_numeros = a + b + c + d\n",
        "  print(f\"a soma é igual a {somar_numeros}\")\n"
      ],
      "metadata": {
        "id": "WVdS-SOh-7rb"
      },
      "execution_count": null,
      "outputs": []
    },
    {
      "cell_type": "code",
      "source": [
        "soma_II(20, 30, 45, 34)"
      ],
      "metadata": {
        "colab": {
          "base_uri": "https://localhost:8080/"
        },
        "id": "Qm6Ua7-x_0Gq",
        "outputId": "e82dd21c-7c56-4f42-be18-b01be10b98eb"
      },
      "execution_count": null,
      "outputs": [
        {
          "output_type": "stream",
          "name": "stdout",
          "text": [
            "a soma é igual a 129\n"
          ]
        }
      ]
    },
    {
      "cell_type": "code",
      "source": [
        "soma_II(2334, 239248, 24, 0)"
      ],
      "metadata": {
        "colab": {
          "base_uri": "https://localhost:8080/"
        },
        "id": "duat8B1RAJpO",
        "outputId": "82c63ce2-7fa6-4dfc-bee6-525c61da19db"
      },
      "execution_count": null,
      "outputs": [
        {
          "output_type": "stream",
          "name": "stdout",
          "text": [
            "a soma é igual a 241606\n"
          ]
        }
      ]
    },
    {
      "cell_type": "code",
      "source": [
        "#retornando o valor\n",
        "\n",
        "def soma_III (a,b):\n",
        "  soma = a + b\n",
        "  return soma"
      ],
      "metadata": {
        "id": "QxMiFTI8AgtY"
      },
      "execution_count": null,
      "outputs": []
    },
    {
      "cell_type": "code",
      "source": [
        "soma = soma_III(30, 40)"
      ],
      "metadata": {
        "id": "zEuCW_b7A9Nw"
      },
      "execution_count": null,
      "outputs": []
    },
    {
      "cell_type": "code",
      "source": [
        "print(f\"A soma é igual a {somar}\")"
      ],
      "metadata": {
        "colab": {
          "base_uri": "https://localhost:8080/"
        },
        "id": "Qqftnoc9BC3I",
        "outputId": "b85018ea-eb57-40f6-9672-783667057514"
      },
      "execution_count": null,
      "outputs": [
        {
          "output_type": "stream",
          "name": "stdout",
          "text": [
            "A soma é igual a (120, 60.0, 5.0)\n"
          ]
        }
      ]
    },
    {
      "cell_type": "code",
      "source": [
        "def soma_IIII (a,b):\n",
        "  soma = a + b\n",
        "  media = (a+b)/2\n",
        "  divisao = a/b\n",
        "  return soma, media, divisao"
      ],
      "metadata": {
        "id": "T0a_Mbu2Bilv"
      },
      "execution_count": null,
      "outputs": []
    },
    {
      "cell_type": "code",
      "source": [
        "somar = soma_IIII (100,20)\n"
      ],
      "metadata": {
        "id": "o1UhFRc8B3oH"
      },
      "execution_count": null,
      "outputs": []
    },
    {
      "cell_type": "code",
      "source": [
        "#retorna tuplas\n",
        "print(somar)"
      ],
      "metadata": {
        "colab": {
          "base_uri": "https://localhost:8080/"
        },
        "id": "-VRlEHoTCRqn",
        "outputId": "f75864f8-e8d6-492a-e023-9dc509f8c2a1"
      },
      "execution_count": null,
      "outputs": [
        {
          "output_type": "stream",
          "name": "stdout",
          "text": [
            "(120, 60.0, 5.0)\n"
          ]
        }
      ]
    },
    {
      "cell_type": "code",
      "source": [
        "soma, media, divisao =  soma_IIII(100,20)\n",
        "print(soma)\n",
        "print(media)\n",
        "print(divisao)\n"
      ],
      "metadata": {
        "colab": {
          "base_uri": "https://localhost:8080/"
        },
        "id": "3z6AkNgmDDvm",
        "outputId": "b1cc70c6-b0d8-42c5-f436-80f889dd4db1"
      },
      "execution_count": null,
      "outputs": [
        {
          "output_type": "stream",
          "name": "stdout",
          "text": [
            "120\n",
            "60.0\n",
            "5.0\n"
          ]
        }
      ]
    },
    {
      "cell_type": "markdown",
      "source": [],
      "metadata": {
        "id": "LrP2R-Rh83Zm"
      }
    },
    {
      "cell_type": "code",
      "source": [
        "def entrada_dados():\n",
        "  numero_1 = int(input(\"digite um número\"))\n",
        "  numero_2 = int(input(\"digite outro número\"))\n",
        "\n",
        "  soma = soma_III(numero_1, numero_2)\n",
        "  print(f\"a soma é igual a {soma}\")\n",
        "\n"
      ],
      "metadata": {
        "id": "zVPqic1AEapz"
      },
      "execution_count": null,
      "outputs": []
    },
    {
      "cell_type": "code",
      "source": [],
      "metadata": {
        "colab": {
          "base_uri": "https://localhost:8080/"
        },
        "id": "bo9IY7IqJup9",
        "outputId": "55d115ec-4965-42d5-ec5e-0e4442fe77cf"
      },
      "execution_count": null,
      "outputs": [
        {
          "output_type": "stream",
          "name": "stdout",
          "text": [
            "a soma é igual a 70\n"
          ]
        }
      ]
    },
    {
      "cell_type": "code",
      "source": [
        "entrada_dados()\n"
      ],
      "metadata": {
        "colab": {
          "base_uri": "https://localhost:8080/"
        },
        "id": "VTmPQOgAJ2If",
        "outputId": "1100eae0-397e-4827-d903-c39ab7298746"
      },
      "execution_count": null,
      "outputs": [
        {
          "output_type": "stream",
          "name": "stdout",
          "text": [
            "digite um número25\n",
            "digite outro número25\n",
            "a soma é igual a 50\n"
          ]
        }
      ]
    },
    {
      "cell_type": "code",
      "source": [
        "entrada_dados()"
      ],
      "metadata": {
        "colab": {
          "base_uri": "https://localhost:8080/"
        },
        "id": "yHozbm--KECU",
        "outputId": "125445bd-c6a5-4b3f-e358-6ad3eb48ed77"
      },
      "execution_count": null,
      "outputs": [
        {
          "output_type": "stream",
          "name": "stdout",
          "text": [
            "digite um número41\n",
            "digite outro número1\n",
            "a soma é igual a 42\n"
          ]
        }
      ]
    },
    {
      "cell_type": "markdown",
      "source": [
        "# While\n",
        "\n",
        "uma estrutura de repetição que permite executar um determinado bloco de código enquanto uma condição for verdadeira. A execussão do loop é interrompida quando a condição se torna falsa.\n",
        "\n",
        "Tipo meu aviso de férias?"
      ],
      "metadata": {
        "id": "WZ6Uf8r-84g7"
      }
    },
    {
      "cell_type": "code",
      "source": [
        "#while\n",
        "\n",
        "contador = 0\n",
        "while contador < 10:\n",
        "  print (f\"estou de férias!\")\n",
        "\n",
        "  contador = contador +1\n"
      ],
      "metadata": {
        "colab": {
          "base_uri": "https://localhost:8080/"
        },
        "id": "G23Bb-4U9YNF",
        "outputId": "62c63027-5571-482c-d474-fa7f89031b70"
      },
      "execution_count": 2,
      "outputs": [
        {
          "output_type": "stream",
          "name": "stdout",
          "text": [
            "estou de férias!\n",
            "estou de férias!\n",
            "estou de férias!\n",
            "estou de férias!\n",
            "estou de férias!\n",
            "estou de férias!\n",
            "estou de férias!\n",
            "estou de férias!\n",
            "estou de férias!\n",
            "estou de férias!\n"
          ]
        }
      ]
    },
    {
      "cell_type": "code",
      "source": [
        "\n",
        "#enquanto a n é diferente de zero\n",
        "\n",
        "n = 1\n",
        "soma = 0\n",
        "\n",
        "while n !=0:\n",
        "  numero = int(input(\"digite um número\"))\n",
        "  soma = soma + numero\n",
        "  if numero == 0:\n",
        "    n=0\n",
        "    print(soma)"
      ],
      "metadata": {
        "colab": {
          "base_uri": "https://localhost:8080/"
        },
        "id": "7ozUl8y7-3UL",
        "outputId": "067c2923-cc29-49a3-b3b5-57966bbe4b1e"
      },
      "execution_count": 3,
      "outputs": [
        {
          "output_type": "stream",
          "name": "stdout",
          "text": [
            "digite um número12\n",
            "digite um número12\n",
            "digite um número3\n",
            "digite um número0\n",
            "27\n"
          ]
        }
      ]
    },
    {
      "cell_type": "code",
      "source": [
        "soma = 0\n",
        "lista = []\n",
        "\n",
        "while True:\n",
        "  numero = int(input(\"digite um número\"))\n",
        "  lista.append (numero)\n",
        "  soma = soma + numero\n",
        "  if numero == 0:\n",
        "    print(soma)\n",
        "    print(lista)\n",
        "    break\n"
      ],
      "metadata": {
        "colab": {
          "base_uri": "https://localhost:8080/"
        },
        "id": "pRtCI0XcAOwU",
        "outputId": "59cecdd8-907a-4282-ff2b-8fef7cc96f8c"
      },
      "execution_count": 6,
      "outputs": [
        {
          "output_type": "stream",
          "name": "stdout",
          "text": [
            "digite um número8\n",
            "digite um número12\n",
            "digite um número6\n",
            "digite um número23\n",
            "digite um número0\n",
            "49\n",
            "[8, 12, 6, 23, 0]\n"
          ]
        }
      ]
    },
    {
      "cell_type": "code",
      "source": [
        "soma = 0\n",
        "numero = 1\n",
        "lista = []\n",
        "\n",
        "while numero <= 10:\n",
        "  lista.append (numero)\n",
        "  soma = soma + numero\n",
        "  numero = numero + 1\n",
        "print(soma)\n",
        "print(lista)\n"
      ],
      "metadata": {
        "colab": {
          "base_uri": "https://localhost:8080/"
        },
        "id": "6Vtg5td3Bh_N",
        "outputId": "2a8859bd-e03a-4844-f313-256e92d23ebb"
      },
      "execution_count": 18,
      "outputs": [
        {
          "output_type": "stream",
          "name": "stdout",
          "text": [
            "55\n",
            "[1, 2, 3, 4, 5, 6, 7, 8, 9, 10]\n"
          ]
        }
      ]
    },
    {
      "cell_type": "code",
      "source": [
        "n = 1\n",
        "soma = 0\n",
        "lista = []\n",
        "\n",
        "while n <=5:\n",
        "  numero = int(input(\"digite um número\"))\n",
        "  lista.append (numero)\n",
        "  soma = soma + numero\n",
        "  n = n +1\n",
        "\n",
        "print(lista)\n",
        "print(f\" a soma é igual a {soma}\")\n"
      ],
      "metadata": {
        "colab": {
          "base_uri": "https://localhost:8080/"
        },
        "id": "s2C7AcayD-Sr",
        "outputId": "3c201143-660b-4b36-ea81-d204dad9f8e4"
      },
      "execution_count": 21,
      "outputs": [
        {
          "output_type": "stream",
          "name": "stdout",
          "text": [
            "digite um número5\n",
            "digite um número5\n",
            "digite um número5\n",
            "digite um número5\n",
            "digite um número5\n",
            "[5, 5, 5, 5, 5]\n",
            " a soma é igual a 25\n"
          ]
        }
      ]
    }
  ]
}